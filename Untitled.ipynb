{
 "cells": [
  {
   "cell_type": "code",
   "execution_count": 1,
   "metadata": {},
   "outputs": [],
   "source": [
    "import math"
   ]
  },
  {
   "cell_type": "code",
   "execution_count": 7,
   "metadata": {},
   "outputs": [],
   "source": [
    "def f(x):\n",
    "    return math.pow(x,4)-3*math.pow(x,2)-3"
   ]
  },
  {
   "cell_type": "code",
   "execution_count": 9,
   "metadata": {},
   "outputs": [
    {
     "data": {
      "text/plain": [
       "1.0"
      ]
     },
     "execution_count": 9,
     "metadata": {},
     "output_type": "execute_result"
    }
   ],
   "source": [
    "a=1\n",
    "b=2\n",
    "tol=0.0001\n"
   ]
  },
  {
   "cell_type": "code",
   "execution_count": 12,
   "metadata": {},
   "outputs": [
    {
     "name": "stdout",
     "output_type": "stream",
     "text": [
      "The value of root is :  1.9471\n"
     ]
    }
   ],
   "source": [
    "# Python3 implementation of Bisection \n",
    "# Method for solving equations \n",
    "\n",
    "MAX_ITER = 1000000\n",
    "\n",
    "# An example function whose solution \n",
    "# is determined using Bisection Method. \n",
    "# The function is x^3 - x^2 + 2 \n",
    "def func( x ): \n",
    "\treturn math.pow(x,4)-3*math.pow(x,2)-3\n",
    "\n",
    "# Prints root of func(x) in interval [a, b] \n",
    "def regulaFalsi( a , b): \n",
    "\tif func(a) * func(b) >= 0: \n",
    "\t\tprint(\"You have not assumed right a and b\") \n",
    "\t\treturn -1\n",
    "\t\n",
    "\tc = a # Initialize result \n",
    "\t\n",
    "\tfor i in range(MAX_ITER): \n",
    "\t\t\n",
    "\t\t# Find the point that touches x axis \n",
    "\t\tc = (a * func(b) - b * func(a))/ (func(b) - func(a)) \n",
    "\t\t\n",
    "\t\t# Check if the above found point is root \n",
    "\t\tif func(c) == 0: \n",
    "\t\t\tbreak\n",
    "\t\t\n",
    "\t\t# Decide the side to repeat the steps \n",
    "\t\telif func(c) * func(a) < 0: \n",
    "\t\t\tb = c \n",
    "\t\telse: \n",
    "\t\t\ta = c \n",
    "\tprint(\"The value of root is : \" , '%.4f' %c) \n",
    "\n",
    "# Driver code to test above function \n",
    "# Initial values assumed \n",
    "a =1\n",
    "b = 2\n",
    "regulaFalsi(a, b) \n",
    "\n",
    "# This code is contributed by \"Sharad_Bhardwaj\". \n"
   ]
  },
  {
   "cell_type": "code",
   "execution_count": null,
   "metadata": {},
   "outputs": [],
   "source": []
  }
 ],
 "metadata": {
  "kernelspec": {
   "display_name": "Python 3",
   "language": "python",
   "name": "python3"
  },
  "language_info": {
   "codemirror_mode": {
    "name": "ipython",
    "version": 3
   },
   "file_extension": ".py",
   "mimetype": "text/x-python",
   "name": "python",
   "nbconvert_exporter": "python",
   "pygments_lexer": "ipython3",
   "version": "3.7.0"
  }
 },
 "nbformat": 4,
 "nbformat_minor": 2
}
